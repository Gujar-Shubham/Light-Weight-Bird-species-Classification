{
  "nbformat": 4,
  "nbformat_minor": 0,
  "metadata": {
    "colab": {
      "name": "BirdAndroid.ipynb",
      "provenance": [],
      "collapsed_sections": [],
      "mount_file_id": "1y0UY55Uam66PpssBgdJcTS7U7mF2_BAi",
      "authorship_tag": "ABX9TyN/Nh8gyx9QpaZ+L+tV1sKi",
      "include_colab_link": true
    },
    "kernelspec": {
      "name": "python3",
      "display_name": "Python 3"
    },
    "accelerator": "GPU"
  },
  "cells": [
    {
      "cell_type": "markdown",
      "metadata": {
        "id": "view-in-github",
        "colab_type": "text"
      },
      "source": [
        "<a href=\"https://colab.research.google.com/github/Gujar-Shubham/Light-Weight-Bird-species-Classification/blob/master/BirdAndroid.ipynb\" target=\"_parent\"><img src=\"https://colab.research.google.com/assets/colab-badge.svg\" alt=\"Open In Colab\"/></a>"
      ]
    },
    {
      "cell_type": "code",
      "metadata": {
        "id": "lH8UmFGX0ZqJ"
      },
      "source": [
        "import zipfile\n",
        "\n",
        "dataset_path=\"/content/drive/MyDrive/Kaggle/bird/archive.zip\"\n",
        "zfile=zipfile.ZipFile(dataset_path)\n",
        "zfile.extractall()"
      ],
      "execution_count": null,
      "outputs": []
    },
    {
      "cell_type": "code",
      "metadata": {
        "id": "X6TZ-JYM1XCw"
      },
      "source": [
        "import numpy as np\n",
        "import keras\n",
        "from keras.models import Sequential\n",
        "from keras.layers.core import Dense, Flatten, Dropout\n",
        "from keras.preprocessing.image import ImageDataGenerator\n",
        "from keras.preprocessing import image\n",
        "import shutil\n",
        "import os\n",
        "import cv2\n",
        "import tensorflow as tf\n",
        "from keras.callbacks import EarlyStopping\n",
        "from keras.applications import Xception\n",
        "from keras.applications.xception import preprocess_input \n",
        "from keras.applications import ResNet50\n",
        "from keras.applications import InceptionV3\n",
        "from keras.applications import Xception # TensorFlow ONLY\n",
        "from tensorflow.keras.applications import VGG16\n",
        "from tensorflow.keras.applications import VGG19\n",
        "from tensorflow.keras.applications import imagenet_utils\n",
        "from tensorflow.keras.applications.inception_v3 import preprocess_input\n",
        "from tensorflow.keras.preprocessing.image import img_to_array\n",
        "from tensorflow.keras.preprocessing.image import load_img"
      ],
      "execution_count": null,
      "outputs": []
    },
    {
      "cell_type": "code",
      "metadata": {
        "id": "VQFRcOTP1XKH",
        "colab": {
          "base_uri": "https://localhost:8080/"
        },
        "outputId": "6361a307-e0d7-4a67-8b53-1b2fc625cda8"
      },
      "source": [
        "from keras.preprocessing.image import ImageDataGenerator\n",
        "from tensorflow.keras.applications.inception_v3 import preprocess_input\n",
        "train_path = 'train'       \n",
        "test_path = 'test'           \n",
        "validate_path = 'valid'\n",
        "\n",
        "#Creating generator for Training DataSet\n",
        "train_datagen = ImageDataGenerator(\n",
        "        preprocessing_function=preprocess_input,\n",
        "        shear_range=0.1, \n",
        "        zoom_range=0.1,\n",
        "        horizontal_flip=True)\n",
        "train_generator = train_datagen.flow_from_directory(\n",
        "        'train',\n",
        "        target_size=(224, 224),\n",
        "        batch_size=32,\n",
        "        class_mode='categorical')\n",
        "\n",
        "#Creating generator for Validation DataSet\n",
        "val_datagen = ImageDataGenerator(preprocessing_function=preprocess_input)\n",
        "val_generator = val_datagen.flow_from_directory(\n",
        "        'valid',\n",
        "        target_size=(224, 224),\n",
        "        batch_size=32,\n",
        "        class_mode='categorical')\n",
        "\n",
        "#Creating generator for Test DataSet\n",
        "test_datagen = ImageDataGenerator(preprocessing_function=preprocess_input)\n",
        "test_generator = test_datagen.flow_from_directory(\n",
        "        'test',\n",
        "        target_size=(224, 224),\n",
        "        batch_size=32,\n",
        "        class_mode='categorical')"
      ],
      "execution_count": null,
      "outputs": [
        {
          "output_type": "stream",
          "text": [
            "Found 31316 images belonging to 225 classes.\n",
            "Found 1125 images belonging to 225 classes.\n",
            "Found 1125 images belonging to 225 classes.\n"
          ],
          "name": "stdout"
        }
      ]
    },
    {
      "cell_type": "code",
      "metadata": {
        "id": "8IcfDbFa1XSQ",
        "colab": {
          "base_uri": "https://localhost:8080/"
        },
        "outputId": "09118a17-667d-43bc-e9a1-9904ff896515"
      },
      "source": [
        "#instantiate a base model with pre-trained weigts.\n",
        "base_model=keras.applications.Xception(\n",
        "    include_top=False,\n",
        "    weights=\"imagenet\",\n",
        "    input_shape=(224,224,3))\n",
        "\n",
        "#freeze the base model\n",
        "base_model.trainable = False\n",
        "\n",
        "#Create new model on top\n",
        "from keras.models import Sequential\n",
        "from keras.layers import Dense,Flatten,Dropout\n",
        "model=Sequential()\n",
        "model.add(base_model)\n",
        "#model.add(Flatten())\n",
        "#model.add(Dense(2048,activation='relu',kernel_initializer='he_normal'))\n",
        "model.add(Dropout(0.35))\n",
        "model.add(Dense(225,activation='softmax',kernel_initializer='glorot_normal'))\n",
        "\n",
        "model.summary()"
      ],
      "execution_count": null,
      "outputs": [
        {
          "output_type": "stream",
          "text": [
            "Model: \"sequential_1\"\n",
            "_________________________________________________________________\n",
            "Layer (type)                 Output Shape              Param #   \n",
            "=================================================================\n",
            "xception (Functional)        (None, 7, 7, 2048)        20861480  \n",
            "_________________________________________________________________\n",
            "flatten_1 (Flatten)          (None, 100352)            0         \n",
            "_________________________________________________________________\n",
            "dense_2 (Dense)              (None, 2048)              205522944 \n",
            "_________________________________________________________________\n",
            "dropout_1 (Dropout)          (None, 2048)              0         \n",
            "_________________________________________________________________\n",
            "dense_3 (Dense)              (None, 225)               461025    \n",
            "=================================================================\n",
            "Total params: 226,845,449\n",
            "Trainable params: 205,983,969\n",
            "Non-trainable params: 20,861,480\n",
            "_________________________________________________________________\n"
          ],
          "name": "stdout"
        }
      ]
    },
    {
      "cell_type": "code",
      "metadata": {
        "id": "eQM3t5JJYAPR"
      },
      "source": [
        "#Train the model on new data.\n",
        "model.compile(optimizer=keras.optimizers.Adam(1e-4),loss='categorical_crossentropy',metrics=['accuracy'])\n",
        "# simple early stopping\n",
        "es = EarlyStopping(monitor='val_loss', mode='min', verbose=1, patience=1)\n",
        "# fit model\n",
        "#history = model.fit(trainX, trainy, validation_data=(testX, testy), epochs=4000, verbose=0, callbacks=[es])\n",
        "#train_model = model.fit(train_generator,batch_size=32,epochs=0,verbose=1,validation_data=val_generator)\n",
        "history=model.fit(train_generator,epochs=50,validation_data=val_generator,workers=10,use_multiprocessing=False, callbacks=[es])"
      ],
      "execution_count": null,
      "outputs": []
    },
    {
      "cell_type": "code",
      "metadata": {
        "id": "NHA8pVz-YpNA"
      },
      "source": [
        "#Some visualizations\n",
        "import matplotlib.pyplot as plt\n",
        "#Loss\n",
        "plt.plot(history.history['loss'],label='loss')\n",
        "plt.plot(history.history['val_loss'],label='val_loss')\n",
        "plt.xlabel('epochs')\n",
        "# Set the y axis label of the current axis.\n",
        "plt.ylabel('loss')\n",
        "# Set a title \n",
        "#plt.title('Draw a line.')\n",
        "# Display the figure.\n",
        "plt.show()\n",
        "plt.legend()\n",
        "plt.show()\n",
        "#Accuracy\n",
        "plt.plot(history.history['accuracy'],label='acc')\n",
        "plt.plot(history.history['val_accuracy'],label='val_acc')\n",
        "plt.xlabel('epochs')\n",
        "# Set the y axis label of the current axis.\n",
        "plt.ylabel('accuracy')\n",
        "# Set a title \n",
        "#plt.title('Draw a line.')\n",
        "# Display the figure.\n",
        "plt.show()\n",
        "plt.legend()\n",
        "plt.show()"
      ],
      "execution_count": null,
      "outputs": []
    },
    {
      "cell_type": "code",
      "metadata": {
        "id": "x0sPU9pA6iS5",
        "colab": {
          "base_uri": "https://localhost:8080/"
        },
        "outputId": "5a2fbfe7-af12-4c0d-c2a8-7bed5b3361a9"
      },
      "source": [
        "#printing model layers detail\n",
        "print(model.layers)\n",
        "for i in range(len(model.layers)):\n",
        " if len(model.layers[i].get_weights())!=0:\n",
        "        print(\"Layer Number:\",i,\"Layer Shape: \",model.layers[i].get_weights()[0].shape)"
      ],
      "execution_count": null,
      "outputs": [
        {
          "output_type": "stream",
          "text": [
            "[<tensorflow.python.keras.engine.functional.Functional object at 0x7f2c70558ac8>, <tensorflow.python.keras.layers.core.Flatten object at 0x7f2c704b3b70>, <tensorflow.python.keras.layers.core.Dense object at 0x7f2c704bf278>, <tensorflow.python.keras.layers.core.Dropout object at 0x7f2c70466b38>, <tensorflow.python.keras.layers.core.Dense object at 0x7f2c70466b00>, <tensorflow.python.keras.layers.core.Dropout object at 0x7f2c70423ef0>, <tensorflow.python.keras.layers.core.Dense object at 0x7f2c70423e48>]\n",
            "Layer Number: 0 Layer Shape:  (3, 3, 3, 64)\n",
            "Layer Number: 2 Layer Shape:  (25088, 2048)\n",
            "Layer Number: 4 Layer Shape:  (2048, 2048)\n",
            "Layer Number: 6 Layer Shape:  (2048, 225)\n"
          ],
          "name": "stdout"
        }
      ]
    },
    {
      "cell_type": "code",
      "metadata": {
        "id": "ME7uExVTDR1U",
        "colab": {
          "base_uri": "https://localhost:8080/"
        },
        "outputId": "3d61f6ef-93e4-4b67-9797-cfbeb101408e"
      },
      "source": [
        "score = model.evaluate(val_generator, verbose=0)\n",
        "print('Test loss:', score[0])\n",
        "print('Test accuracy:', score[1])"
      ],
      "execution_count": null,
      "outputs": [
        {
          "output_type": "stream",
          "text": [
            "WARNING:tensorflow:multiprocessing can interact badly with TensorFlow, causing nondeterministic deadlocks. For high performance data pipelines tf.data is recommended.\n",
            "Test loss: 0.231587752699852\n",
            "Test accuracy: 0.9288889169692993\n"
          ],
          "name": "stdout"
        }
      ]
    },
    {
      "cell_type": "code",
      "metadata": {
        "id": "mysvOxHQ5gOf",
        "colab": {
          "base_uri": "https://localhost:8080/"
        },
        "outputId": "971c171a-37ee-4a68-9ac5-7fe6da0b7b91"
      },
      "source": [
        "import os\n",
        "list_dir = os.listdir('/content/train/')\n",
        "list_dir = [f.upper() for f in list_dir]   # Convert to lower case\n",
        "sorted(list_dir)"
      ],
      "execution_count": null,
      "outputs": [
        {
          "output_type": "execute_result",
          "data": {
            "text/plain": [
              "['AFRICAN FIREFINCH',\n",
              " 'ALBATROSS',\n",
              " 'ALEXANDRINE PARAKEET',\n",
              " 'AMERICAN AVOCET',\n",
              " 'AMERICAN BITTERN',\n",
              " 'AMERICAN COOT',\n",
              " 'AMERICAN GOLDFINCH',\n",
              " 'AMERICAN KESTREL',\n",
              " 'AMERICAN PIPIT',\n",
              " 'AMERICAN REDSTART',\n",
              " 'ANHINGA',\n",
              " 'ANNAS HUMMINGBIRD',\n",
              " 'ANTBIRD',\n",
              " 'ARARIPE MANAKIN',\n",
              " 'ASIAN CRESTED IBIS',\n",
              " 'BALD EAGLE',\n",
              " 'BALI STARLING',\n",
              " 'BALTIMORE ORIOLE',\n",
              " 'BANANAQUIT',\n",
              " 'BAR-TAILED GODWIT',\n",
              " 'BARN OWL',\n",
              " 'BARN SWALLOW',\n",
              " 'BARRED PUFFBIRD',\n",
              " 'BAY-BREASTED WARBLER',\n",
              " 'BEARDED BARBET',\n",
              " 'BELTED KINGFISHER',\n",
              " 'BIRD OF PARADISE',\n",
              " 'BLACK FRANCOLIN',\n",
              " 'BLACK SKIMMER',\n",
              " 'BLACK SWAN',\n",
              " 'BLACK THROATED WARBLER',\n",
              " 'BLACK VULTURE',\n",
              " 'BLACK-CAPPED CHICKADEE',\n",
              " 'BLACK-NECKED GREBE',\n",
              " 'BLACK-THROATED SPARROW',\n",
              " 'BLACKBURNIAM WARBLER',\n",
              " 'BLUE GROUSE',\n",
              " 'BLUE HERON',\n",
              " 'BOBOLINK',\n",
              " 'BROWN NOODY',\n",
              " 'BROWN THRASHER',\n",
              " 'CACTUS WREN',\n",
              " 'CALIFORNIA CONDOR',\n",
              " 'CALIFORNIA GULL',\n",
              " 'CALIFORNIA QUAIL',\n",
              " 'CANARY',\n",
              " 'CAPE MAY WARBLER',\n",
              " 'CAPUCHINBIRD',\n",
              " 'CARMINE BEE-EATER',\n",
              " 'CASPIAN TERN',\n",
              " 'CASSOWARY',\n",
              " 'CHARA DE COLLAR',\n",
              " 'CHIPPING SPARROW',\n",
              " 'CHUKAR PARTRIDGE',\n",
              " 'CINNAMON TEAL',\n",
              " 'COCK OF THE  ROCK',\n",
              " 'COCKATOO',\n",
              " 'COMMON GRACKLE',\n",
              " 'COMMON HOUSE MARTIN',\n",
              " 'COMMON LOON',\n",
              " 'COMMON POORWILL',\n",
              " 'COMMON STARLING',\n",
              " 'COUCHS KINGBIRD',\n",
              " 'CRESTED AUKLET',\n",
              " 'CRESTED CARACARA',\n",
              " 'CROW',\n",
              " 'CROWNED PIGEON',\n",
              " 'CUBAN TODY',\n",
              " 'CURL CRESTED ARACURI',\n",
              " 'D-ARNAUDS BARBET',\n",
              " 'DARK EYED JUNCO',\n",
              " 'DOWNY WOODPECKER',\n",
              " 'EASTERN BLUEBIRD',\n",
              " 'EASTERN MEADOWLARK',\n",
              " 'EASTERN ROSELLA',\n",
              " 'EASTERN TOWEE',\n",
              " 'ELEGANT TROGON',\n",
              " 'ELLIOTS  PHEASANT',\n",
              " 'EMPEROR PENGUIN',\n",
              " 'EMU',\n",
              " 'EURASIAN MAGPIE',\n",
              " 'EVENING GROSBEAK',\n",
              " 'FLAME TANAGER',\n",
              " 'FLAMINGO',\n",
              " 'FRIGATE',\n",
              " 'GAMBELS QUAIL',\n",
              " 'GILA WOODPECKER',\n",
              " 'GILDED FLICKER',\n",
              " 'GLOSSY IBIS',\n",
              " 'GOLD WING WARBLER',\n",
              " 'GOLDEN CHEEKED WARBLER',\n",
              " 'GOLDEN CHLOROPHONIA',\n",
              " 'GOLDEN EAGLE',\n",
              " 'GOLDEN PHEASANT',\n",
              " 'GOLDEN PIPIT',\n",
              " 'GOULDIAN FINCH',\n",
              " 'GRAY CATBIRD',\n",
              " 'GRAY PARTRIDGE',\n",
              " 'GREEN JAY',\n",
              " 'GREY PLOVER',\n",
              " 'GUINEAFOWL',\n",
              " 'GYRFALCON',\n",
              " 'HARPY EAGLE',\n",
              " 'HAWAIIAN GOOSE',\n",
              " 'HOODED MERGANSER',\n",
              " 'HOOPOES',\n",
              " 'HORNBILL',\n",
              " 'HORNED GUAN',\n",
              " 'HORNED SUNGEM',\n",
              " 'HOUSE FINCH',\n",
              " 'HOUSE SPARROW',\n",
              " 'IMPERIAL SHAQ',\n",
              " 'INCA TERN',\n",
              " 'INDIAN BUSTARD',\n",
              " 'INDIGO BUNTING',\n",
              " 'JABIRU',\n",
              " 'JAVAN MAGPIE',\n",
              " 'KAKAPO',\n",
              " 'KILLDEAR',\n",
              " 'KING VULTURE',\n",
              " 'KIWI',\n",
              " 'KOOKABURRA',\n",
              " 'LARK BUNTING',\n",
              " 'LEARS MACAW',\n",
              " 'LILAC ROLLER',\n",
              " 'LONG-EARED OWL',\n",
              " 'MALABAR HORNBILL',\n",
              " 'MALACHITE KINGFISHER',\n",
              " 'MALEO',\n",
              " 'MALLARD DUCK',\n",
              " 'MANDRIN DUCK',\n",
              " 'MARABOU STORK',\n",
              " 'MASKED BOOBY',\n",
              " 'MIKADO  PHEASANT',\n",
              " 'MOURNING DOVE',\n",
              " 'MYNA',\n",
              " 'NICOBAR PIGEON',\n",
              " 'NORTHERN CARDINAL',\n",
              " 'NORTHERN FLICKER',\n",
              " 'NORTHERN GANNET',\n",
              " 'NORTHERN GOSHAWK',\n",
              " 'NORTHERN JACANA',\n",
              " 'NORTHERN MOCKINGBIRD',\n",
              " 'NORTHERN PARULA',\n",
              " 'NORTHERN RED BISHOP',\n",
              " 'OCELLATED TURKEY',\n",
              " 'OKINAWA RAIL',\n",
              " 'OSPREY',\n",
              " 'OSTRICH',\n",
              " 'PAINTED BUNTIG',\n",
              " 'PALILA',\n",
              " 'PARADISE TANAGER',\n",
              " 'PARUS MAJOR',\n",
              " 'PEACOCK',\n",
              " 'PELICAN',\n",
              " 'PEREGRINE FALCON',\n",
              " 'PHILIPPINE EAGLE',\n",
              " 'PINK ROBIN',\n",
              " 'PUFFIN',\n",
              " 'PURPLE FINCH',\n",
              " 'PURPLE GALLINULE',\n",
              " 'PURPLE MARTIN',\n",
              " 'PURPLE SWAMPHEN',\n",
              " 'QUETZAL',\n",
              " 'RAINBOW LORIKEET',\n",
              " 'RAZORBILL',\n",
              " 'RED FACED CORMORANT',\n",
              " 'RED FACED WARBLER',\n",
              " 'RED HEADED DUCK',\n",
              " 'RED HEADED WOODPECKER',\n",
              " 'RED HONEY CREEPER',\n",
              " 'RED THROATED BEE EATER',\n",
              " 'RED WINGED BLACKBIRD',\n",
              " 'RED WISKERED BULBUL',\n",
              " 'RING-NECKED PHEASANT',\n",
              " 'ROADRUNNER',\n",
              " 'ROBIN',\n",
              " 'ROCK DOVE',\n",
              " 'ROSY FACED LOVEBIRD',\n",
              " 'ROUGH LEG BUZZARD',\n",
              " 'RUBY THROATED HUMMINGBIRD',\n",
              " 'RUFOUS KINGFISHER',\n",
              " 'RUFUOS MOTMOT',\n",
              " 'SAND MARTIN',\n",
              " 'SCARLET IBIS',\n",
              " 'SCARLET MACAW',\n",
              " 'SHOEBILL',\n",
              " 'SMITHS LONGSPUR',\n",
              " 'SNOWY EGRET',\n",
              " 'SNOWY OWL',\n",
              " 'SORA',\n",
              " 'SPANGLED COTINGA',\n",
              " 'SPLENDID WREN',\n",
              " 'SPOON BILED SANDPIPER',\n",
              " 'SPOONBILL',\n",
              " 'STEAMER DUCK',\n",
              " 'STORK BILLED KINGFISHER',\n",
              " 'STRAWBERRY FINCH',\n",
              " 'STRIPPED SWALLOW',\n",
              " 'SUPERB STARLING',\n",
              " 'TAIWAN MAGPIE',\n",
              " 'TAKAHE',\n",
              " 'TASMANIAN HEN',\n",
              " 'TEAL DUCK',\n",
              " 'TIT MOUSE',\n",
              " 'TOUCHAN',\n",
              " 'TOWNSENDS WARBLER',\n",
              " 'TREE SWALLOW',\n",
              " 'TRUMPTER SWAN',\n",
              " 'TURKEY VULTURE',\n",
              " 'TURQUOISE MOTMOT',\n",
              " 'VARIED THRUSH',\n",
              " 'VENEZUELIAN TROUPIAL',\n",
              " 'VERMILION FLYCATHER',\n",
              " 'VIOLET GREEN SWALLOW',\n",
              " 'WATTLED CURASSOW',\n",
              " 'WHIMBREL',\n",
              " 'WHITE CHEEKED TURACO',\n",
              " 'WHITE NECKED RAVEN',\n",
              " 'WHITE TAILED TROPIC',\n",
              " 'WILD TURKEY',\n",
              " 'WILSONS BIRD OF PARADISE',\n",
              " 'WOOD DUCK',\n",
              " 'YELLOW CACIQUE',\n",
              " 'YELLOW HEADED BLACKBIRD']"
            ]
          },
          "metadata": {
            "tags": []
          },
          "execution_count": 5
        }
      ]
    },
    {
      "cell_type": "code",
      "metadata": {
        "id": "eSItH8hsIHDL"
      },
      "source": [
        "import tensorflow as tf\n",
        "import os"
      ],
      "execution_count": null,
      "outputs": []
    },
    {
      "cell_type": "code",
      "metadata": {
        "colab": {
          "base_uri": "https://localhost:8080/"
        },
        "id": "Rsnq6jooZEB1",
        "outputId": "e9e3a7b8-c152-41cb-bc82-e8e9182711a6"
      },
      "source": [
        "for image_batch, label_batch in train_generator:\n",
        "  break\n",
        "image_batch.shape, label_batch.shape"
      ],
      "execution_count": null,
      "outputs": [
        {
          "output_type": "execute_result",
          "data": {
            "text/plain": [
              "((32, 224, 224, 3), (32, 225))"
            ]
          },
          "metadata": {
            "tags": []
          },
          "execution_count": 7
        }
      ]
    },
    {
      "cell_type": "code",
      "metadata": {
        "colab": {
          "base_uri": "https://localhost:8080/"
        },
        "id": "viv_wNU2ZEEv",
        "outputId": "0acccb8c-0f40-400c-a876-4d07829dea36"
      },
      "source": [
        "print (train_generator.class_indices)\n",
        "\n",
        "labels = '\\n'.join(sorted(train_generator.class_indices.keys()))\n",
        "\n",
        "with open('labels.txt', 'w') as f:\n",
        "  f.write(labels)"
      ],
      "execution_count": null,
      "outputs": [
        {
          "output_type": "stream",
          "text": [
            "{'AFRICAN FIREFINCH': 0, 'ALBATROSS': 1, 'ALEXANDRINE PARAKEET': 2, 'AMERICAN AVOCET': 3, 'AMERICAN BITTERN': 4, 'AMERICAN COOT': 5, 'AMERICAN GOLDFINCH': 6, 'AMERICAN KESTREL': 7, 'AMERICAN PIPIT': 8, 'AMERICAN REDSTART': 9, 'ANHINGA': 10, 'ANNAS HUMMINGBIRD': 11, 'ANTBIRD': 12, 'ARARIPE MANAKIN': 13, 'ASIAN CRESTED IBIS': 14, 'BALD EAGLE': 15, 'BALI STARLING': 16, 'BALTIMORE ORIOLE': 17, 'BANANAQUIT': 18, 'BAR-TAILED GODWIT': 19, 'BARN OWL': 20, 'BARN SWALLOW': 21, 'BARRED PUFFBIRD': 22, 'BAY-BREASTED WARBLER': 23, 'BEARDED BARBET': 24, 'BELTED KINGFISHER': 25, 'BIRD OF PARADISE': 26, 'BLACK FRANCOLIN': 27, 'BLACK SKIMMER': 28, 'BLACK SWAN': 29, 'BLACK THROATED WARBLER': 30, 'BLACK VULTURE': 31, 'BLACK-CAPPED CHICKADEE': 32, 'BLACK-NECKED GREBE': 33, 'BLACK-THROATED SPARROW': 34, 'BLACKBURNIAM WARBLER': 35, 'BLUE GROUSE': 36, 'BLUE HERON': 37, 'BOBOLINK': 38, 'BROWN NOODY': 39, 'BROWN THRASHER': 40, 'CACTUS WREN': 41, 'CALIFORNIA CONDOR': 42, 'CALIFORNIA GULL': 43, 'CALIFORNIA QUAIL': 44, 'CANARY': 45, 'CAPE MAY WARBLER': 46, 'CAPUCHINBIRD': 47, 'CARMINE BEE-EATER': 48, 'CASPIAN TERN': 49, 'CASSOWARY': 50, 'CHARA DE COLLAR': 51, 'CHIPPING SPARROW': 52, 'CHUKAR PARTRIDGE': 53, 'CINNAMON TEAL': 54, 'COCK OF THE  ROCK': 55, 'COCKATOO': 56, 'COMMON GRACKLE': 57, 'COMMON HOUSE MARTIN': 58, 'COMMON LOON': 59, 'COMMON POORWILL': 60, 'COMMON STARLING': 61, 'COUCHS KINGBIRD': 62, 'CRESTED AUKLET': 63, 'CRESTED CARACARA': 64, 'CROW': 65, 'CROWNED PIGEON': 66, 'CUBAN TODY': 67, 'CURL CRESTED ARACURI': 68, 'D-ARNAUDS BARBET': 69, 'DARK EYED JUNCO': 70, 'DOWNY WOODPECKER': 71, 'EASTERN BLUEBIRD': 72, 'EASTERN MEADOWLARK': 73, 'EASTERN ROSELLA': 74, 'EASTERN TOWEE': 75, 'ELEGANT TROGON': 76, 'ELLIOTS  PHEASANT': 77, 'EMPEROR PENGUIN': 78, 'EMU': 79, 'EURASIAN MAGPIE': 80, 'EVENING GROSBEAK': 81, 'FLAME TANAGER': 82, 'FLAMINGO': 83, 'FRIGATE': 84, 'GAMBELS QUAIL': 85, 'GILA WOODPECKER': 86, 'GILDED FLICKER': 87, 'GLOSSY IBIS': 88, 'GOLD WING WARBLER': 89, 'GOLDEN CHEEKED WARBLER': 90, 'GOLDEN CHLOROPHONIA': 91, 'GOLDEN EAGLE': 92, 'GOLDEN PHEASANT': 93, 'GOLDEN PIPIT': 94, 'GOULDIAN FINCH': 95, 'GRAY CATBIRD': 96, 'GRAY PARTRIDGE': 97, 'GREEN JAY': 98, 'GREY PLOVER': 99, 'GUINEAFOWL': 100, 'GYRFALCON': 101, 'HARPY EAGLE': 102, 'HAWAIIAN GOOSE': 103, 'HOODED MERGANSER': 104, 'HOOPOES': 105, 'HORNBILL': 106, 'HORNED GUAN': 107, 'HORNED SUNGEM': 108, 'HOUSE FINCH': 109, 'HOUSE SPARROW': 110, 'IMPERIAL SHAQ': 111, 'INCA TERN': 112, 'INDIAN BUSTARD': 113, 'INDIGO BUNTING': 114, 'JABIRU': 115, 'JAVAN MAGPIE': 116, 'KAKAPO': 117, 'KILLDEAR': 118, 'KING VULTURE': 119, 'KIWI': 120, 'KOOKABURRA': 121, 'LARK BUNTING': 122, 'LEARS MACAW': 123, 'LILAC ROLLER': 124, 'LONG-EARED OWL': 125, 'MALABAR HORNBILL': 126, 'MALACHITE KINGFISHER': 127, 'MALEO': 128, 'MALLARD DUCK': 129, 'MANDRIN DUCK': 130, 'MARABOU STORK': 131, 'MASKED BOOBY': 132, 'MIKADO  PHEASANT': 133, 'MOURNING DOVE': 134, 'MYNA': 135, 'NICOBAR PIGEON': 136, 'NORTHERN CARDINAL': 137, 'NORTHERN FLICKER': 138, 'NORTHERN GANNET': 139, 'NORTHERN GOSHAWK': 140, 'NORTHERN JACANA': 141, 'NORTHERN MOCKINGBIRD': 142, 'NORTHERN PARULA': 143, 'NORTHERN RED BISHOP': 144, 'OCELLATED TURKEY': 145, 'OKINAWA RAIL': 146, 'OSPREY': 147, 'OSTRICH': 148, 'PAINTED BUNTIG': 149, 'PALILA': 150, 'PARADISE TANAGER': 151, 'PARUS MAJOR': 152, 'PEACOCK': 153, 'PELICAN': 154, 'PEREGRINE FALCON': 155, 'PHILIPPINE EAGLE': 156, 'PINK ROBIN': 157, 'PUFFIN': 158, 'PURPLE FINCH': 159, 'PURPLE GALLINULE': 160, 'PURPLE MARTIN': 161, 'PURPLE SWAMPHEN': 162, 'QUETZAL': 163, 'RAINBOW LORIKEET': 164, 'RAZORBILL': 165, 'RED FACED CORMORANT': 166, 'RED FACED WARBLER': 167, 'RED HEADED DUCK': 168, 'RED HEADED WOODPECKER': 169, 'RED HONEY CREEPER': 170, 'RED THROATED BEE EATER': 171, 'RED WINGED BLACKBIRD': 172, 'RED WISKERED BULBUL': 173, 'RING-NECKED PHEASANT': 174, 'ROADRUNNER': 175, 'ROBIN': 176, 'ROCK DOVE': 177, 'ROSY FACED LOVEBIRD': 178, 'ROUGH LEG BUZZARD': 179, 'RUBY THROATED HUMMINGBIRD': 180, 'RUFOUS KINGFISHER': 181, 'RUFUOS MOTMOT': 182, 'SAND MARTIN': 183, 'SCARLET IBIS': 184, 'SCARLET MACAW': 185, 'SHOEBILL': 186, 'SMITHS LONGSPUR': 187, 'SNOWY EGRET': 188, 'SNOWY OWL': 189, 'SORA': 190, 'SPANGLED COTINGA': 191, 'SPLENDID WREN': 192, 'SPOON BILED SANDPIPER': 193, 'SPOONBILL': 194, 'STEAMER DUCK': 195, 'STORK BILLED KINGFISHER': 196, 'STRAWBERRY FINCH': 197, 'STRIPPED SWALLOW': 198, 'SUPERB STARLING': 199, 'TAIWAN MAGPIE': 200, 'TAKAHE': 201, 'TASMANIAN HEN': 202, 'TEAL DUCK': 203, 'TIT MOUSE': 204, 'TOUCHAN': 205, 'TOWNSENDS WARBLER': 206, 'TREE SWALLOW': 207, 'TRUMPTER SWAN': 208, 'TURKEY VULTURE': 209, 'TURQUOISE MOTMOT': 210, 'VARIED THRUSH': 211, 'VENEZUELIAN TROUPIAL': 212, 'VERMILION FLYCATHER': 213, 'VIOLET GREEN SWALLOW': 214, 'WATTLED CURASSOW': 215, 'WHIMBREL': 216, 'WHITE CHEEKED TURACO': 217, 'WHITE NECKED RAVEN': 218, 'WHITE TAILED TROPIC': 219, 'WILD TURKEY': 220, 'WILSONS BIRD OF PARADISE': 221, 'WOOD DUCK': 222, 'YELLOW CACIQUE': 223, 'YELLOW HEADED BLACKBIRD': 224}\n"
          ],
          "name": "stdout"
        }
      ]
    },
    {
      "cell_type": "code",
      "metadata": {
        "colab": {
          "base_uri": "https://localhost:8080/"
        },
        "id": "r4QEepnBama5",
        "outputId": "6b677e88-9dee-4d75-82c6-ace70cae7122"
      },
      "source": [
        "IMAGE_SIZE=224\n",
        "IMG_SHAPE = (IMAGE_SIZE, IMAGE_SIZE, 3)\n",
        "\n",
        "base_model = tf.keras.applications.MobileNetV2(input_shape=IMG_SHAPE,\n",
        "                                              include_top=False, \n",
        "                                              weights='imagenet')"
      ],
      "execution_count": null,
      "outputs": [
        {
          "output_type": "stream",
          "text": [
            "Downloading data from https://storage.googleapis.com/tensorflow/keras-applications/mobilenet_v2/mobilenet_v2_weights_tf_dim_ordering_tf_kernels_1.0_224_no_top.h5\n",
            "9412608/9406464 [==============================] - 0s 0us/step\n"
          ],
          "name": "stdout"
        }
      ]
    },
    {
      "cell_type": "code",
      "metadata": {
        "id": "mmxqkkd_buZB"
      },
      "source": [
        "base_model.trainable = False"
      ],
      "execution_count": null,
      "outputs": []
    },
    {
      "cell_type": "code",
      "metadata": {
        "id": "qORBwSlAb0au"
      },
      "source": [
        "model = tf.keras.Sequential([\n",
        "                             base_model,\n",
        "                             tf.keras.layers.Conv2D(64, 3, activation='relu'),\n",
        "                             tf.keras.layers.Dropout(0.2),\n",
        "                             tf.keras.layers.Conv2D(32, 3, activation='relu'),\n",
        "                             tf.keras.layers.Dropout(0.2),\n",
        "                             tf.keras.layers.GlobalAveragePooling2D(),\n",
        "                             tf.keras.layers.Dense(225, activation='softmax')\n",
        "])"
      ],
      "execution_count": null,
      "outputs": []
    },
    {
      "cell_type": "code",
      "metadata": {
        "id": "o_JaD2Yjb-nf",
        "colab": {
          "base_uri": "https://localhost:8080/"
        },
        "outputId": "2d7de161-5665-4276-9f7b-0ad32943284d"
      },
      "source": [
        "model.compile(optimizer=tf.keras.optimizers.Adam(1e-4), \n",
        "              loss='categorical_crossentropy', \n",
        "              metrics=['accuracy'])\n",
        "model.summary()"
      ],
      "execution_count": null,
      "outputs": [
        {
          "output_type": "stream",
          "text": [
            "Model: \"sequential_1\"\n",
            "_________________________________________________________________\n",
            "Layer (type)                 Output Shape              Param #   \n",
            "=================================================================\n",
            "mobilenetv2_1.00_224 (Functi (None, 7, 7, 1280)        2257984   \n",
            "_________________________________________________________________\n",
            "conv2d_1 (Conv2D)            (None, 5, 5, 64)          737344    \n",
            "_________________________________________________________________\n",
            "dropout_1 (Dropout)          (None, 5, 5, 64)          0         \n",
            "_________________________________________________________________\n",
            "conv2d_2 (Conv2D)            (None, 3, 3, 32)          18464     \n",
            "_________________________________________________________________\n",
            "dropout_2 (Dropout)          (None, 3, 3, 32)          0         \n",
            "_________________________________________________________________\n",
            "global_average_pooling2d_1 ( (None, 32)                0         \n",
            "_________________________________________________________________\n",
            "dense_1 (Dense)              (None, 225)               7425      \n",
            "=================================================================\n",
            "Total params: 3,021,217\n",
            "Trainable params: 763,233\n",
            "Non-trainable params: 2,257,984\n",
            "_________________________________________________________________\n"
          ],
          "name": "stdout"
        }
      ]
    },
    {
      "cell_type": "code",
      "metadata": {
        "colab": {
          "base_uri": "https://localhost:8080/"
        },
        "id": "-3496_-WcBNw",
        "outputId": "f3627ae2-13ac-4087-d289-511e2f8db239"
      },
      "source": [
        "epochs = 500\n",
        "es = EarlyStopping(monitor='val_loss', mode='min', verbose=1, patience=10)\n",
        "history = model.fit(train_generator, \n",
        "                    epochs=epochs,\n",
        "                    validation_data=val_generator,\n",
        "                    steps_per_epoch=50,\n",
        "                    callbacks=[es]\n",
        "                    )"
      ],
      "execution_count": null,
      "outputs": [
        {
          "output_type": "stream",
          "text": [
            "Epoch 1/100\n",
            "50/50 [==============================] - 23s 453ms/step - loss: 5.4014 - accuracy: 0.0113 - val_loss: 5.3389 - val_accuracy: 0.0098\n",
            "Epoch 2/100\n",
            "50/50 [==============================] - 22s 435ms/step - loss: 5.2640 - accuracy: 0.0225 - val_loss: 5.1804 - val_accuracy: 0.0338\n",
            "Epoch 3/100\n",
            "50/50 [==============================] - 22s 437ms/step - loss: 5.0951 - accuracy: 0.0375 - val_loss: 4.9850 - val_accuracy: 0.0578\n",
            "Epoch 4/100\n",
            "50/50 [==============================] - 22s 434ms/step - loss: 4.9417 - accuracy: 0.0650 - val_loss: 4.7483 - val_accuracy: 0.0933\n",
            "Epoch 5/100\n",
            "50/50 [==============================] - 22s 435ms/step - loss: 4.6664 - accuracy: 0.0906 - val_loss: 4.4691 - val_accuracy: 0.1289\n",
            "Epoch 6/100\n",
            "50/50 [==============================] - 22s 434ms/step - loss: 4.4147 - accuracy: 0.1444 - val_loss: 4.1952 - val_accuracy: 0.1858\n",
            "Epoch 7/100\n",
            "50/50 [==============================] - 22s 435ms/step - loss: 4.2003 - accuracy: 0.1675 - val_loss: 3.9293 - val_accuracy: 0.2338\n",
            "Epoch 8/100\n",
            "50/50 [==============================] - 22s 435ms/step - loss: 3.8801 - accuracy: 0.2275 - val_loss: 3.6633 - val_accuracy: 0.2738\n",
            "Epoch 9/100\n",
            "50/50 [==============================] - 22s 435ms/step - loss: 3.7424 - accuracy: 0.2450 - val_loss: 3.3971 - val_accuracy: 0.3289\n",
            "Epoch 10/100\n",
            "50/50 [==============================] - 22s 436ms/step - loss: 3.5061 - accuracy: 0.2775 - val_loss: 3.1828 - val_accuracy: 0.3707\n",
            "Epoch 11/100\n",
            "50/50 [==============================] - 22s 436ms/step - loss: 3.3073 - accuracy: 0.3131 - val_loss: 2.9484 - val_accuracy: 0.4196\n",
            "Epoch 12/100\n",
            "50/50 [==============================] - 22s 439ms/step - loss: 3.0580 - accuracy: 0.3481 - val_loss: 2.7376 - val_accuracy: 0.4364\n",
            "Epoch 13/100\n",
            "50/50 [==============================] - 22s 436ms/step - loss: 2.8996 - accuracy: 0.3875 - val_loss: 2.5976 - val_accuracy: 0.4640\n",
            "Epoch 14/100\n",
            "50/50 [==============================] - 22s 436ms/step - loss: 2.7414 - accuracy: 0.4150 - val_loss: 2.4031 - val_accuracy: 0.4924\n",
            "Epoch 15/100\n",
            "50/50 [==============================] - 22s 436ms/step - loss: 2.5714 - accuracy: 0.4469 - val_loss: 2.2395 - val_accuracy: 0.5262\n",
            "Epoch 16/100\n",
            "50/50 [==============================] - 22s 436ms/step - loss: 2.5544 - accuracy: 0.4556 - val_loss: 2.1648 - val_accuracy: 0.5289\n",
            "Epoch 17/100\n",
            "50/50 [==============================] - 22s 437ms/step - loss: 2.4344 - accuracy: 0.4694 - val_loss: 2.0391 - val_accuracy: 0.5600\n",
            "Epoch 18/100\n",
            "50/50 [==============================] - 22s 434ms/step - loss: 2.3582 - accuracy: 0.4650 - val_loss: 1.9164 - val_accuracy: 0.5822\n",
            "Epoch 19/100\n",
            "50/50 [==============================] - 22s 434ms/step - loss: 2.1930 - accuracy: 0.4919 - val_loss: 1.8420 - val_accuracy: 0.5804\n",
            "Epoch 20/100\n",
            "50/50 [==============================] - 22s 436ms/step - loss: 2.1302 - accuracy: 0.5281 - val_loss: 1.7338 - val_accuracy: 0.6107\n",
            "Epoch 21/100\n",
            "50/50 [==============================] - 22s 436ms/step - loss: 2.0381 - accuracy: 0.5387 - val_loss: 1.6425 - val_accuracy: 0.6427\n",
            "Epoch 22/100\n",
            "50/50 [==============================] - 22s 436ms/step - loss: 2.0427 - accuracy: 0.5325 - val_loss: 1.5959 - val_accuracy: 0.6489\n",
            "Epoch 23/100\n",
            "50/50 [==============================] - 22s 436ms/step - loss: 2.0478 - accuracy: 0.5369 - val_loss: 1.5086 - val_accuracy: 0.6827\n",
            "Epoch 24/100\n",
            "50/50 [==============================] - 22s 437ms/step - loss: 1.9158 - accuracy: 0.5487 - val_loss: 1.5004 - val_accuracy: 0.6711\n",
            "Epoch 25/100\n",
            "50/50 [==============================] - 22s 435ms/step - loss: 1.9212 - accuracy: 0.5700 - val_loss: 1.4322 - val_accuracy: 0.6738\n",
            "Epoch 26/100\n",
            "50/50 [==============================] - 22s 440ms/step - loss: 1.7998 - accuracy: 0.5813 - val_loss: 1.3852 - val_accuracy: 0.6871\n",
            "Epoch 27/100\n",
            "50/50 [==============================] - 22s 435ms/step - loss: 1.7348 - accuracy: 0.5838 - val_loss: 1.3573 - val_accuracy: 0.6862\n",
            "Epoch 28/100\n",
            "50/50 [==============================] - 22s 435ms/step - loss: 1.7294 - accuracy: 0.5769 - val_loss: 1.2902 - val_accuracy: 0.7022\n",
            "Epoch 29/100\n",
            "50/50 [==============================] - 22s 434ms/step - loss: 1.5809 - accuracy: 0.6181 - val_loss: 1.3042 - val_accuracy: 0.7138\n",
            "Epoch 30/100\n",
            "50/50 [==============================] - 22s 436ms/step - loss: 1.6651 - accuracy: 0.6100 - val_loss: 1.1866 - val_accuracy: 0.7209\n",
            "Epoch 31/100\n",
            "50/50 [==============================] - 22s 437ms/step - loss: 1.6247 - accuracy: 0.6119 - val_loss: 1.2026 - val_accuracy: 0.7164\n",
            "Epoch 32/100\n",
            "50/50 [==============================] - 22s 434ms/step - loss: 1.5878 - accuracy: 0.6219 - val_loss: 1.1988 - val_accuracy: 0.7280\n",
            "Epoch 33/100\n",
            "50/50 [==============================] - 22s 432ms/step - loss: 1.5634 - accuracy: 0.6250 - val_loss: 1.1565 - val_accuracy: 0.7351\n",
            "Epoch 34/100\n",
            "50/50 [==============================] - 22s 432ms/step - loss: 1.5283 - accuracy: 0.6448 - val_loss: 1.1359 - val_accuracy: 0.7316\n",
            "Epoch 35/100\n",
            "50/50 [==============================] - 22s 433ms/step - loss: 1.4736 - accuracy: 0.6469 - val_loss: 1.0976 - val_accuracy: 0.7378\n",
            "Epoch 36/100\n",
            "50/50 [==============================] - 22s 432ms/step - loss: 1.4075 - accuracy: 0.6637 - val_loss: 1.0761 - val_accuracy: 0.7387\n",
            "Epoch 37/100\n",
            "50/50 [==============================] - 22s 433ms/step - loss: 1.5150 - accuracy: 0.6306 - val_loss: 1.0684 - val_accuracy: 0.7360\n",
            "Epoch 38/100\n",
            "50/50 [==============================] - 22s 434ms/step - loss: 1.4397 - accuracy: 0.6544 - val_loss: 1.0439 - val_accuracy: 0.7600\n",
            "Epoch 39/100\n",
            "50/50 [==============================] - 22s 433ms/step - loss: 1.4906 - accuracy: 0.6413 - val_loss: 1.0357 - val_accuracy: 0.7627\n",
            "Epoch 40/100\n",
            "50/50 [==============================] - 22s 437ms/step - loss: 1.4049 - accuracy: 0.6456 - val_loss: 0.9983 - val_accuracy: 0.7636\n",
            "Epoch 41/100\n",
            "50/50 [==============================] - 22s 434ms/step - loss: 1.3287 - accuracy: 0.6600 - val_loss: 0.9688 - val_accuracy: 0.7724\n",
            "Epoch 42/100\n",
            "50/50 [==============================] - 22s 434ms/step - loss: 1.3188 - accuracy: 0.6750 - val_loss: 0.9707 - val_accuracy: 0.7627\n",
            "Epoch 43/100\n",
            "50/50 [==============================] - 22s 434ms/step - loss: 1.3217 - accuracy: 0.6812 - val_loss: 0.9432 - val_accuracy: 0.7591\n",
            "Epoch 44/100\n",
            "50/50 [==============================] - 22s 436ms/step - loss: 1.3229 - accuracy: 0.6744 - val_loss: 0.9449 - val_accuracy: 0.7724\n",
            "Epoch 45/100\n",
            "50/50 [==============================] - 22s 435ms/step - loss: 1.3162 - accuracy: 0.6669 - val_loss: 0.9115 - val_accuracy: 0.7733\n",
            "Epoch 46/100\n",
            "50/50 [==============================] - 22s 435ms/step - loss: 1.2530 - accuracy: 0.6925 - val_loss: 0.9223 - val_accuracy: 0.7698\n",
            "Epoch 47/100\n",
            "50/50 [==============================] - 22s 435ms/step - loss: 1.2891 - accuracy: 0.6800 - val_loss: 0.9022 - val_accuracy: 0.7787\n",
            "Epoch 48/100\n",
            "50/50 [==============================] - 22s 437ms/step - loss: 1.2845 - accuracy: 0.6769 - val_loss: 0.8891 - val_accuracy: 0.7867\n",
            "Epoch 49/100\n",
            "50/50 [==============================] - 22s 436ms/step - loss: 1.2650 - accuracy: 0.7000 - val_loss: 0.8811 - val_accuracy: 0.7911\n",
            "Epoch 50/100\n",
            "50/50 [==============================] - 22s 436ms/step - loss: 1.2029 - accuracy: 0.7019 - val_loss: 0.8553 - val_accuracy: 0.8044\n",
            "Epoch 51/100\n",
            "50/50 [==============================] - 22s 437ms/step - loss: 1.2327 - accuracy: 0.6844 - val_loss: 0.8233 - val_accuracy: 0.8044\n",
            "Epoch 52/100\n",
            "50/50 [==============================] - 22s 435ms/step - loss: 1.1343 - accuracy: 0.7144 - val_loss: 0.8091 - val_accuracy: 0.8018\n",
            "Epoch 53/100\n",
            "50/50 [==============================] - 22s 436ms/step - loss: 1.1411 - accuracy: 0.7225 - val_loss: 0.8174 - val_accuracy: 0.8107\n",
            "Epoch 54/100\n",
            "50/50 [==============================] - 22s 440ms/step - loss: 1.1807 - accuracy: 0.6919 - val_loss: 0.8086 - val_accuracy: 0.8044\n",
            "Epoch 55/100\n",
            "50/50 [==============================] - 22s 435ms/step - loss: 1.1341 - accuracy: 0.7065 - val_loss: 0.8033 - val_accuracy: 0.8142\n",
            "Epoch 56/100\n",
            "50/50 [==============================] - 22s 439ms/step - loss: 1.1032 - accuracy: 0.7287 - val_loss: 0.7787 - val_accuracy: 0.8036\n",
            "Epoch 57/100\n",
            "50/50 [==============================] - 22s 438ms/step - loss: 1.1358 - accuracy: 0.7138 - val_loss: 0.7896 - val_accuracy: 0.7991\n",
            "Epoch 58/100\n",
            "50/50 [==============================] - 22s 440ms/step - loss: 1.0938 - accuracy: 0.7319 - val_loss: 0.7689 - val_accuracy: 0.8089\n",
            "Epoch 59/100\n",
            "50/50 [==============================] - 22s 440ms/step - loss: 1.1002 - accuracy: 0.7231 - val_loss: 0.7613 - val_accuracy: 0.8133\n",
            "Epoch 60/100\n",
            "50/50 [==============================] - 22s 438ms/step - loss: 1.0840 - accuracy: 0.7262 - val_loss: 0.7466 - val_accuracy: 0.8293\n",
            "Epoch 61/100\n",
            "50/50 [==============================] - 22s 437ms/step - loss: 1.0553 - accuracy: 0.7331 - val_loss: 0.7616 - val_accuracy: 0.8098\n",
            "Epoch 62/100\n",
            "50/50 [==============================] - 22s 437ms/step - loss: 1.0511 - accuracy: 0.7419 - val_loss: 0.7356 - val_accuracy: 0.8133\n",
            "Epoch 63/100\n",
            "50/50 [==============================] - 22s 437ms/step - loss: 1.0511 - accuracy: 0.7437 - val_loss: 0.7222 - val_accuracy: 0.8196\n",
            "Epoch 64/100\n",
            "50/50 [==============================] - 22s 439ms/step - loss: 1.0525 - accuracy: 0.7462 - val_loss: 0.7136 - val_accuracy: 0.8187\n",
            "Epoch 65/100\n",
            "50/50 [==============================] - 22s 438ms/step - loss: 1.0464 - accuracy: 0.7356 - val_loss: 0.7217 - val_accuracy: 0.8187\n",
            "Epoch 66/100\n",
            "50/50 [==============================] - 22s 438ms/step - loss: 1.0099 - accuracy: 0.7444 - val_loss: 0.7123 - val_accuracy: 0.8160\n",
            "Epoch 67/100\n",
            "50/50 [==============================] - 22s 435ms/step - loss: 0.9092 - accuracy: 0.7638 - val_loss: 0.7215 - val_accuracy: 0.8160\n",
            "Epoch 68/100\n",
            "50/50 [==============================] - 22s 438ms/step - loss: 0.9330 - accuracy: 0.7469 - val_loss: 0.7140 - val_accuracy: 0.8133\n",
            "Epoch 69/100\n",
            "50/50 [==============================] - 22s 434ms/step - loss: 0.9689 - accuracy: 0.7581 - val_loss: 0.6989 - val_accuracy: 0.8222\n",
            "Epoch 70/100\n",
            "50/50 [==============================] - 22s 435ms/step - loss: 0.9480 - accuracy: 0.7500 - val_loss: 0.6970 - val_accuracy: 0.8258\n",
            "Epoch 71/100\n",
            "50/50 [==============================] - 22s 434ms/step - loss: 1.0016 - accuracy: 0.7400 - val_loss: 0.6996 - val_accuracy: 0.8231\n",
            "Epoch 72/100\n",
            "50/50 [==============================] - 22s 436ms/step - loss: 1.0225 - accuracy: 0.7406 - val_loss: 0.6904 - val_accuracy: 0.8249\n",
            "Epoch 73/100\n",
            "50/50 [==============================] - 22s 431ms/step - loss: 1.0204 - accuracy: 0.7469 - val_loss: 0.6710 - val_accuracy: 0.8293\n",
            "Epoch 74/100\n",
            "50/50 [==============================] - 21s 430ms/step - loss: 0.9168 - accuracy: 0.7638 - val_loss: 0.6792 - val_accuracy: 0.8258\n",
            "Epoch 75/100\n",
            "50/50 [==============================] - 22s 432ms/step - loss: 0.8811 - accuracy: 0.7725 - val_loss: 0.6786 - val_accuracy: 0.8276\n",
            "Epoch 76/100\n",
            "50/50 [==============================] - 22s 432ms/step - loss: 0.9507 - accuracy: 0.7538 - val_loss: 0.6789 - val_accuracy: 0.8311\n",
            "Epoch 00076: early stopping\n"
          ],
          "name": "stdout"
        }
      ]
    },
    {
      "cell_type": "code",
      "metadata": {
        "colab": {
          "base_uri": "https://localhost:8080/",
          "height": 1000
        },
        "id": "hkeKj7saYah5",
        "outputId": "d5d9a642-0df9-4b44-9422-b146a751a778"
      },
      "source": [
        "#Some visualizations\n",
        "import matplotlib.pyplot as plt\n",
        "#Loss\n",
        "plt.plot(history.history['loss'],label='loss')\n",
        "plt.plot(history.history['val_loss'],label='val_loss')\n",
        "plt.xlabel('epochs')\n",
        "# Set the y axis label of the current axis.\n",
        "plt.ylabel('loss')\n",
        "# Set a title \n",
        "#plt.title('Draw a line.')\n",
        "# Display the figure.\n",
        "plt.show()\n",
        "plt.legend()\n",
        "plt.show()\n",
        "#Accuracy\n",
        "plt.plot(history.history['accuracy'])\n",
        "plt.plot(history.history['val_accuracy'])\n",
        "plt.xlabel('epochs')\n",
        "# Set the y axis label of the current axis.\n",
        "plt.ylabel('accuracy')\n",
        "# Set a title \n",
        "#plt.title('Draw a line.')\n",
        "# Display the figure.\n",
        "plt.show()\n",
        "plt.legend()\n",
        "plt.show()"
      ],
      "execution_count": null,
      "outputs": [
        {
          "output_type": "display_data",
          "data": {
            "image/png": "[encoded data removed]",
            "text/plain": [
              "<Figure size 432x288 with 1 Axes>"
            ]
          },
          "metadata": {
            "tags": [],
            "needs_background": "light"
          }
        },
        {
          "output_type": "stream",
          "text": [
            "No handles with labels found to put in legend.\n"
          ],
          "name": "stderr"
        },
        {
          "output_type": "display_data",
          "data": {
            "image/png": "[encoded data removed]",
            "text/plain": [
              "<Figure size 432x288 with 1 Axes>"
            ]
          },
          "metadata": {
            "tags": [],
            "needs_background": "light"
          }
        },
        {
          "output_type": "display_data",
          "data": {
            "image/png": "[encoded data removed]",
            "text/plain": [
              "<Figure size 432x288 with 1 Axes>"
            ]
          },
          "metadata": {
            "tags": [],
            "needs_background": "light"
          }
        },
        {
          "output_type": "stream",
          "text": [
            "No handles with labels found to put in legend.\n"
          ],
          "name": "stderr"
        },
        {
          "output_type": "display_data",
          "data": {
            "image/png": "[encoded data removed]",
            "text/plain": [
              "<Figure size 432x288 with 1 Axes>"
            ]
          },
          "metadata": {
            "tags": [],
            "needs_background": "light"
          }
        }
      ]
    },
    {
      "cell_type": "code",
      "metadata": {
        "colab": {
          "base_uri": "https://localhost:8080/"
        },
        "id": "uDLfmXjmYgkr",
        "outputId": "5bc456a3-0cfe-4cb1-eba3-a9301261e1dd"
      },
      "source": [
        "score = model.evaluate(val_generator, verbose=0)\n",
        "print('Test loss:', score[0])\n",
        "print('Test accuracy:', score[1])"
      ],
      "execution_count": null,
      "outputs": [
        {
          "output_type": "stream",
          "text": [
            "Test loss: 0.42673054337501526\n",
            "Test accuracy: 0.874666690826416\n"
          ],
          "name": "stdout"
        }
      ]
    },
    {
      "cell_type": "code",
      "metadata": {
        "id": "ce2gg12vcEW5"
      },
      "source": [
        "model.save('birdnn.h5')"
      ],
      "execution_count": null,
      "outputs": []
    },
    {
      "cell_type": "code",
      "metadata": {
        "id": "SSuIicDDcZBd"
      },
      "source": [
        "model2=tf.keras.models.load_model('birdnn.h5', compile=False)"
      ],
      "execution_count": null,
      "outputs": []
    },
    {
      "cell_type": "code",
      "metadata": {
        "id": "8c6UULXu99-N"
      },
      "source": [
        ""
      ],
      "execution_count": null,
      "outputs": []
    },
    {
      "cell_type": "code",
      "metadata": {
        "colab": {
          "base_uri": "https://localhost:8080/"
        },
        "id": "Z5C9y_mZcZEV",
        "outputId": "920d8ebe-3375-4ff7-a370-72c00caca470"
      },
      "source": [
        "# saved_model_dir = ''\n",
        "# tf.saved_model.save(model, saved_model_dir)\n",
        "\n",
        "# model.save('test.h5')\n",
        "\n",
        "converter = tf.lite.TFLiteConverter.from_keras_model(model2)\n",
        "tflite_model = converter.convert()\n",
        "\n",
        "with open('birdnn.tflite', 'wb') as f:\n",
        "  f.write(tflite_model)"
      ],
      "execution_count": null,
      "outputs": [
        {
          "output_type": "stream",
          "text": [
            "WARNING:tensorflow:From /usr/local/lib/python3.6/dist-packages/tensorflow/python/training/tracking/tracking.py:111: Model.state_updates (from tensorflow.python.keras.engine.training) is deprecated and will be removed in a future version.\n",
            "Instructions for updating:\n",
            "This property should not be used in TensorFlow 2.0, as updates are applied automatically.\n",
            "WARNING:tensorflow:From /usr/local/lib/python3.6/dist-packages/tensorflow/python/training/tracking/tracking.py:111: Layer.updates (from tensorflow.python.keras.engine.base_layer) is deprecated and will be removed in a future version.\n",
            "Instructions for updating:\n",
            "This property should not be used in TensorFlow 2.0, as updates are applied automatically.\n",
            "INFO:tensorflow:Assets written to: /tmp/tmp4fnhou03/assets\n"
          ],
          "name": "stdout"
        }
      ]
    }
  ]
}